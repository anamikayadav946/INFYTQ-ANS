{
 "cells": [
  {
   "cell_type": "code",
   "execution_count": null,
   "metadata": {},
   "outputs": [],
   "source": [
    "#1.Write a Python program to check whether the given year is leap year or not.\n",
    "a = 2005\n",
    "if a % 4 == 0:\n",
    "    print(\"It is a leap year\")  \n",
    "else:\n",
    "    print(\"It is not Leap year\")"
   ]
  },
  {
   "cell_type": "code",
   "execution_count": null,
   "metadata": {},
   "outputs": [],
   "source": [
    "#2.Write a Python program to find and display the maximum of three given numbers.\n",
    "\n",
    "a= 5 \n",
    "b= 4 \n",
    "c=7\n",
    "\n",
    "print(max(a,b,c))"
   ]
  },
  {
   "cell_type": "code",
   "execution_count": 111,
   "metadata": {},
   "outputs": [
    {
     "name": "stdout",
     "output_type": "stream",
     "text": [
      "49 is not a prime number\n"
     ]
    }
   ],
   "source": [
    "#3.Write a Python program to check the given number is prime number or not.\n",
    "num= 49\n",
    "if num>1:\n",
    "    for i in range(2,int(num/2)+1):\n",
    "        if num%i==0:\n",
    "            print(num, \"is not a prime number\")\n",
    "            break\n",
    "    else:\n",
    "            print(num,\"is a prime number\")\n",
    "else:\n",
    "    print(num,\"is not a prime number\")            "
   ]
  },
  {
   "cell_type": "code",
   "execution_count": 107,
   "metadata": {},
   "outputs": [],
   "source": [
    "#Write a Python program to print first n Fibonacci numbers.\n"
   ]
  },
  {
   "cell_type": "code",
   "execution_count": null,
   "metadata": {},
   "outputs": [],
   "source": [
    "#An organization has decided to provide salary hike to its employees based on their job level. Employees can be in job levels 3 , 4 or 5. Hike percentage based on job levels are given below:\n",
    "def salary(current_salary, job_level):\n",
    "    if job_level == 3:\n",
    "            updated_salary = current_salary*1.15\n",
    "    if job_level == 4:\n",
    "            updated_salary = current_salary*1.07\n",
    "    if job_level == 5:\n",
    "            updated_salary = current_salary*1.04\n",
    "    else:\n",
    "        updated_salary = current_salary\n",
    "    return updated_salary\n",
    "\n",
    "\n",
    "a=salary(30000,2)\n",
    "print(a)\n",
    "    "
   ]
  },
  {
   "attachments": {},
   "cell_type": "markdown",
   "metadata": {},
   "source": [
    "FUNCTION"
   ]
  },
  {
   "cell_type": "code",
   "execution_count": null,
   "metadata": {},
   "outputs": [],
   "source": [
    "#Write a Python function factorial(num) which returns the factorial of a given number.\n",
    "\n",
    "def fact(num):\n",
    "    Factorial = 1\n",
    "    if num>0:\n",
    "        for i in range(1,num+1):\n",
    "            Factorial = i*Factorial\n",
    "        return Factorial \n",
    "    else:\n",
    "        return \"Invalid number\"\n",
    "       \n",
    "print(fact(-1))"
   ]
  },
  {
   "cell_type": "code",
   "execution_count": null,
   "metadata": {},
   "outputs": [],
   "source": [
    "#Write a Python Function is_palindrome(num) that accepts an integer num as argument and returns True if the num is palindrome else returns false. Invoke the function and based on return value print the output.\n",
    "\n",
    "def is_palindrome(num):\n",
    "    new_num = 0\n",
    "    old_num =num\n",
    "    for i in range(0,len(str(num))):\n",
    "        rem= num%10\n",
    "        new_num = new_num*10+rem\n",
    "        num = num//10\n",
    "    print(new_num)\n",
    "    if new_num == old_num:\n",
    "        return True\n",
    "    else:\n",
    "        return False      \n",
    "    \n",
    "is_palindrome(56475)"
   ]
  },
  {
   "cell_type": "code",
   "execution_count": null,
   "metadata": {},
   "outputs": [],
   "source": [
    "'''Write a Python function check_amicable_numbers(num1, num2) that accepts two numbers num1 and num2 as arguments and returns True if the given pair of numbers are amicable numbers else return false. Invoke the function and \n",
    "based on return value print the numbers are amicable numbers or not.\n",
    "num1 and num2 are said to be amicable numbers if sum of all the proper devisors (except num1 itself) of num1 is equal to num2 and sum of all the proper devisors of num2 (except num1 itself) is equal to num1.'''\n",
    "\n",
    "def amicable_num(num1,num2):\n",
    "    sum1=0 \n",
    "    sum2=0\n",
    "    for i in range(1,num1):\n",
    "        if num1%i==0:\n",
    "            sum1=sum1+i\n",
    "    print(\"sum of diviser of num1 {}\".format(sum1))\n",
    "    for i in range(1,num2):\n",
    "        if num2%i==0:\n",
    "            sum2=sum2+i \n",
    "    print(\"sum of diviser of num2 {}\".format(sum2))\n",
    "\n",
    "    if num1==sum2 and num2==sum1:\n",
    "        return True\n",
    "    else:\n",
    "            return False              \n",
    "            \n",
    "amicable_num(220,287)        "
   ]
  },
  {
   "cell_type": "code",
   "execution_count": null,
   "metadata": {},
   "outputs": [],
   "source": [
    "'''Write a Python function right_shift(num, n) that takes two numbers num and n as  arguments and returns value \n",
    "of the integer num rotated to the right by n positions. Assume both the numbers are unsigned. \n",
    "Invoke the function and print the return value.\n",
    "\n",
    "Hint: use >> binary operator to shift the bits.'''\n",
    "\n",
    "def right_shift(num,n):\n",
    "    a = num>>n\n",
    "    print(a)\n",
    "\n",
    "right_shift(60,2)"
   ]
  },
  {
   "cell_type": "code",
   "execution_count": null,
   "metadata": {},
   "outputs": [],
   "source": [
    "'''Write a Python function check_strong_number(num) that accepts a positive integer as argument and returns True \n",
    "if the number is strong number else false. Invoke the function and based on return value print the number is\n",
    " strong number or not.\n",
    "A number is said to be strong number, if the sum of factorial of each digit of the number is equal to the given number.'''\n",
    "\n",
    "def is_Strongnum(num):\n",
    "    old_num=num\n",
    "    sum=0\n",
    "    for i in range(0,len(str(num))):\n",
    "        rem=num%10\n",
    "        fact=1\n",
    "        for j in range(1,rem+1):\n",
    "            fact=fact*j\n",
    "        num = num//10\n",
    "        sum=sum+fact\n",
    "       \n",
    "    if sum == old_num:\n",
    "        return True\n",
    "    else: \n",
    "        return False    \n",
    "\n",
    "is_Strongnum(145)"
   ]
  },
  {
   "attachments": {},
   "cell_type": "markdown",
   "metadata": {},
   "source": [
    "COLLECTION\n"
   ]
  },
  {
   "cell_type": "code",
   "execution_count": null,
   "metadata": {},
   "outputs": [],
   "source": [
    "'''Write a Python function proper_divisors(num) which returns a list of all the proper divisors of given number.\n",
    "\n",
    "Example: Proper divisors of 220 are 1, 2, 4, 5, 10, 11, 20, 22, 44, 55, 110'''\n",
    "\n",
    "def proper_divisors(num):\n",
    "    divisor=[]\n",
    "    for i in range(1,num):\n",
    "        if num%i==0:\n",
    "            divisor.append(i)\n",
    "    return divisor        \n",
    "\n",
    "proper_divisors(220)\n"
   ]
  },
  {
   "cell_type": "code",
   "execution_count": 114,
   "metadata": {},
   "outputs": [],
   "source": [
    "#Write a Python function generate_fibanacci(n) to return a list of first n Fibonacci numbers.\n",
    "\n"
   ]
  },
  {
   "cell_type": "code",
   "execution_count": null,
   "metadata": {},
   "outputs": [],
   "source": [
    "#Write a Python program to generate the next 15 leap years starting from a given year.\n",
    "# Populate the leap years into a list and display the list.\n",
    "\n",
    "def generate_leapyear(year):\n",
    "    count=0\n",
    "    leap_year=[]\n",
    "    while count<15:\n",
    "        if year%4==0:\n",
    "            count=count+1\n",
    "            leap_year.append(year) \n",
    "        year=year+1  \n",
    "    return (leap_year)             \n",
    "\n",
    "\n",
    "generate_leapyear(2000)\n"
   ]
  },
  {
   "cell_type": "code",
   "execution_count": null,
   "metadata": {},
   "outputs": [],
   "source": [
    "#Given a string containing uppercase characters (A-Z), compress the string using Run Length encoding. Repetition of character has to be replaced by storing the length of that run.\n",
    "\n",
    "def encode(message):\n",
    "    encoded_message=\"\"\n",
    "    i=0\n",
    "    while(i<=len(message)-1):\n",
    "        count=1\n",
    "        ch = message[i]\n",
    "        j=i\n",
    "        while(j<len(message)-1):\n",
    "            if message[j]==message[j+1]:\n",
    "                count=count+1\n",
    "                j=j+1\n",
    "            else:\n",
    "                break\n",
    "        encoded_message = encoded_message +str(count)+ch\n",
    "        i=j+1\n",
    "        \n",
    "    return encoded_message            \n",
    "    \n",
    "encode(\"ABBBBCCCCCCCCAB\")       "
   ]
  },
  {
   "cell_type": "code",
   "execution_count": null,
   "metadata": {},
   "outputs": [],
   "source": [
    "def translate(b_dict,list_words):\n",
    "\n",
    "    swedish_word_list =[]\n",
    "    for word in list_words:\n",
    "        swedish_word_list.append(b_dict[word])\n",
    "    return swedish_word_list\n",
    "\n",
    "b_dict = {\"merry\":\"god\", \"christmas\":\"jul\", \"and\":\"och\", \"happy\":\"gott\", \"new\":\"nytt\", \"year\":\"ar\"}\n",
    "list_words = [\"merry\",\"christmas\"]\n",
    "\n",
    "translate(b_dict,list_words)"
   ]
  },
  {
   "attachments": {},
   "cell_type": "markdown",
   "metadata": {},
   "source": [
    "LIBRARIES AND BUILT IN FUNCTION "
   ]
  },
  {
   "cell_type": "code",
   "execution_count": null,
   "metadata": {},
   "outputs": [],
   "source": [
    "'''Write a python function, encrypt_sentence(msg) which accepts a message and encrypts it based on rules given below and returns the encrypted message.\n",
    " Words at odd position -> Reverse It\n",
    "Words at even position -> Rearrange the characters so that all consonants appear before the vowels and their order should not change\n",
    "Note: Assume that the sentence would begin with a word and there will be only a single space between the words.\n",
    "Perform case sensitive string operations wherever necessary.\n",
    "Example: msg=the sun rises in the east    output=eht snu sesir ni eht stea'''\n",
    "\n",
    "def encrypt_sentence(msg):\n",
    "    encrypt_list=[]\n",
    "    vowel_list= ['a','e','i','o','u','A','E','I','O','U']\n",
    "    list_msg = msg.split()\n",
    "    #print(list_msg)\n",
    "    for i in range(0,len(list_msg)):\n",
    "        if i%2==0: #as the list start count with 0 position which is odd position for us\n",
    "            odd_position_str=list_msg[i]\n",
    "            rev_word=odd_position_str[::-1]\n",
    "            #print(rev_word)\n",
    "            encrypt_list.append(rev_word)\n",
    "        else:\n",
    "            even_position_str=list_msg[i]\n",
    "            str1='' #declared two empty string so that each and ever time it should take empty string not old string\n",
    "            str2=''\n",
    "            for j in even_position_str:\n",
    "                if j in vowel_list:\n",
    "                   str1=str1+j\n",
    "                else:\n",
    "                    str2= str2+j\n",
    "            str3 = str2+str1\n",
    "            #print(str3)    \n",
    "            encrypt_list.append(str3)\n",
    "            listtostring = ' '.join(map(str,encrypt_list))\n",
    "    return listtostring\n",
    "                   \n",
    "data = encrypt_sentence(\"the sun rise in the east\")\n",
    "print(data)"
   ]
  },
  {
   "cell_type": "code",
   "execution_count": null,
   "metadata": {},
   "outputs": [],
   "source": [
    "#Write a Python program to find the number of characters present the given string.\n",
    "\n",
    "str1 = 'ana78mikam'\n",
    "count = 0\n",
    "for i in str1:\n",
    "    if i.isalpha():\n",
    "        count=count+1\n",
    "    else:\n",
    "        pass    \n",
    "print(count)    \n"
   ]
  },
  {
   "cell_type": "code",
   "execution_count": 13,
   "metadata": {},
   "outputs": [
    {
     "data": {
      "text/plain": [
       "4"
      ]
     },
     "execution_count": 13,
     "metadata": {},
     "output_type": "execute_result"
    }
   ],
   "source": [
    "#Write a Python program to find the numbers of words present in the given sentence.\n",
    "\n",
    "def count_word(msg):\n",
    "    msg1=msg.split()\n",
    "    msg2= len(msg1)\n",
    "    #res = msg.count(\" \")\n",
    "    return msg\n",
    "\n",
    "count_word(\"My name is @@ anamika.!!!!\")    "
   ]
  },
  {
   "cell_type": "code",
   "execution_count": 36,
   "metadata": {},
   "outputs": [
    {
     "name": "stdout",
     "output_type": "stream",
     "text": [
      "{'the': 3, 'quick': 1, 'brown': 1, 'fox': 2, 'jumps': 1, 'over': 1, 'lazy': 1, 'dog.': 1}\n"
     ]
    }
   ],
   "source": [
    "'''program to count number of repated word and return in dict'''\n",
    "def word_count(str):\n",
    "     counts = dict()\n",
    "     words = str.split()\n",
    "     \n",
    "     for i in words:\n",
    "         if i in counts:\n",
    "            counts[i] += 1\n",
    "         else:\n",
    "            counts[i] = 1\n",
    "     return counts\n",
    "         \n",
    "print( word_count('the quick brown the fox jumps over the lazy dog. fox'))\n"
   ]
  },
  {
   "cell_type": "code",
   "execution_count": null,
   "metadata": {},
   "outputs": [],
   "source": [
    "'''Write a Python function words_count(sentence) to return a dictionary with the length of words as key and number words with such length as value.'''\n",
    "\n",
    "def word_count(str):\n",
    "    counts = dict()\n",
    "    words = str.split()\n",
    "\n",
    "    for word in words:\n",
    "        if len(word) in counts:\n",
    "            counts[len(word)] += 1\n",
    "        else:\n",
    "            counts[len(word)] = 1\n",
    "\n",
    "    return counts\n",
    "\n",
    "print(word_count('the quick brown fox jumps over the lazy dog.'))\n"
   ]
  },
  {
   "cell_type": "code",
   "execution_count": 56,
   "metadata": {},
   "outputs": [
    {
     "name": "stdout",
     "output_type": "stream",
     "text": [
      "{'vowel': 12, 'consonant': 17, 'others': 8}\n"
     ]
    }
   ],
   "source": [
    "'''Write a Python function vowel_count(sentence) to return a dictionary with vowels, consonants, others as key and respective number of vowels, consonants, others characters as value.\n",
    "Note: Do case insensitive operations'''\n",
    "\n",
    "def vowel_count(sentence):\n",
    "    counts = dict({'vowel':0,'consonant':0,'others':0})\n",
    "    for i in sentence:\n",
    "        if i.lower() in 'aeiou':\n",
    "            counts['vowel'] += 1\n",
    "        elif i.lower() in 'bcdfghjklmnpqrstvwxyz':\n",
    "            counts['consonant'] += 1\n",
    "        else:\n",
    "            counts['others'] += 1   \n",
    "    return counts         \n",
    "\n",
    "print(vowel_count('I love python and it so easy to learn'))"
   ]
  },
  {
   "cell_type": "code",
   "execution_count": 77,
   "metadata": {},
   "outputs": [
    {
     "name": "stdout",
     "output_type": "stream",
     "text": [
      "this is first line\n",
      "you are reading the second line\n",
      "now you are dealing with third line<class 'list'>\n"
     ]
    }
   ],
   "source": [
    "#Reading the content of file into list using readlines() function, for reading single line readline()\n",
    "fhk = open(\"data.txt\",\"r\")\n",
    "list_var=fhk.readlines()\n",
    "for line in list_var:\n",
    "    print(line, end='')\n",
    "fhk.close() \n",
    "print(type(list_var))   "
   ]
  },
  {
   "cell_type": "code",
   "execution_count": 84,
   "metadata": {},
   "outputs": [
    {
     "name": "stdout",
     "output_type": "stream",
     "text": [
      "this is first lin<class 'str'>\n"
     ]
    }
   ],
   "source": [
    "#Readin the content of file into string using read() function\n",
    "\n",
    "fhk = open(\"data.txt\", \"r\")\n",
    "list_var = fhk.read(17)\n",
    "for line in list_var:\n",
    "    print(line,end='')\n",
    "fhk.close()    \n",
    "print(type(list_var)) "
   ]
  },
  {
   "attachments": {},
   "cell_type": "markdown",
   "metadata": {},
   "source": [
    "EXCEPTION HANDLING"
   ]
  },
  {
   "cell_type": "code",
   "execution_count": 126,
   "metadata": {},
   "outputs": [
    {
     "data": {
      "text/plain": [
       "[7, 11, 13, 23]"
      ]
     },
     "execution_count": 126,
     "metadata": {},
     "output_type": "execute_result"
    }
   ],
   "source": [
    "#Given a list of numbers, write a Python function to return the list of prime numbers present in it.\n",
    "#Example: input:[7,9,11,13,15,20,23] output:[7,11,13,23]\n",
    "\n",
    "def prime_number(list1):\n",
    "    new_list=[]\n",
    "    for num in list1:\n",
    "        for fact in range(2,i):\n",
    "            #print(fact)\n",
    "            if num % fact == 0:\n",
    "                #print(num,\"not prime num\")\n",
    "                break   \n",
    "        else:\n",
    "                new_list.append(num)      \n",
    "           \n",
    "    return new_list  \n",
    "\n",
    "input11 = [7,9,11,13,15,20,23]\n",
    "prime_number([7,9,11,13,15,20,23])         \n"
   ]
  },
  {
   "cell_type": "code",
   "execution_count": 140,
   "metadata": {},
   "outputs": [
    {
     "data": {
      "text/plain": [
       "'lieyon'"
      ]
     },
     "execution_count": 140,
     "metadata": {},
     "output_type": "execute_result"
    }
   ],
   "source": [
    "'''Write a python function find_common_characters(msg1,msg2) to display all the common characters between given two strings. Return -1 if there are no matching characters.\n",
    "Note: Ignore blank spaces if there are any. Perform case sensitive string comparison wherever necessary.'''\n",
    "def string_match(msg1,msg2):\n",
    "    str1 = \"\"\n",
    "    msg3=msg2.replace(\" \",\"\")\n",
    "    #print(msg3)\n",
    "    for letter in msg1:\n",
    "        if letter in msg3:\n",
    "            str1 += letter\n",
    "\n",
    "    return str1\n",
    "string_match(\"I like Python\",\"Java is a very popular language\")"
   ]
  },
  {
   "cell_type": "code",
   "execution_count": 168,
   "metadata": {},
   "outputs": [
    {
     "data": {
      "text/plain": [
       "3"
      ]
     },
     "execution_count": 168,
     "metadata": {},
     "output_type": "execute_result"
    }
   ],
   "source": [
    "'''Write a python function, find_pairs_of_numbers(num_list,n) which accepts a list of positive integers with no \n",
    "repetitions and returns count of pairs of numbers in the list that adds up to n. The function should return 0, \n",
    "if no such pairs are found in the list.\n",
    "Example: num_list=[1, 2, 7, 4, 5, 6, 0, 3], n=6 output:3\n",
    "         num_list= [3, 4, 1, 8, 5, 9, 0, 6], n=9 output:4'''\n",
    "\n",
    "def find_pairs_of_numbers(num_list,n):\n",
    "    count = 0\n",
    "    for i in num_list:\n",
    "        for j in num_list:\n",
    "            if i+j== n:\n",
    "                count += 1\n",
    "                \n",
    "    return count//2\n",
    "\n",
    "find_pairs_of_numbers(num_list=[1, 2, 7, 4, 5, 6, 0, 3], n=6)\n"
   ]
  },
  {
   "cell_type": "code",
   "execution_count": 188,
   "metadata": {},
   "outputs": [
    {
     "name": "stdout",
     "output_type": "stream",
     "text": [
      "Average marks: 0.25\n"
     ]
    }
   ],
   "source": [
    "def find_average(mark_list):\n",
    "    total=0\n",
    "    try:\n",
    "       for i in range(0, len(mark_list)):\n",
    "\n",
    "         total+=mark_list[i]\n",
    "         marks_avg=total/len(mark_list)\n",
    "         return marks_avg\n",
    "    except NameError:\n",
    "       print(\"Name  error occured\")\n",
    "    except TypeError:\n",
    "       print(\"type error occured\")\n",
    "   \n",
    "try:\n",
    "  \n",
    "   #m_list=[mark1,2,3,4]\n",
    "   m_list=[1,2,3,4]\n",
    "   #m_list=[]\n",
    "   print(\"Average marks:\", find_average(m_list))\n",
    "\n",
    "except ValueError:\n",
    "       print(\"the value error occured\")\n"
   ]
  }
 ],
 "metadata": {
  "kernelspec": {
   "display_name": "Python 3",
   "language": "python",
   "name": "python3"
  },
  "language_info": {
   "codemirror_mode": {
    "name": "ipython",
    "version": 3
   },
   "file_extension": ".py",
   "mimetype": "text/x-python",
   "name": "python",
   "nbconvert_exporter": "python",
   "pygments_lexer": "ipython3",
   "version": "3.10.6"
  },
  "orig_nbformat": 4
 },
 "nbformat": 4,
 "nbformat_minor": 2
}
